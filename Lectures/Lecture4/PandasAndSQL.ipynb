{
 "cells": [
  {
   "cell_type": "markdown",
   "metadata": {},
   "source": [
    "#Pandas, SQL, and the Grammar of Data\n",
    "\n",
    "---"
   ]
  },
  {
   "cell_type": "markdown",
   "metadata": {},
   "source": [
    "##Table of Contents\n",
    "* [Pandas, SQL, and the Grammar of Data](#Pandas,-SQL,-and-the-Grammar-of-Data)\n",
    "\t* [Populating the Database](#Populating-the-Database)\n",
    "\t\t* [SQLITE](#SQLITE)\n",
    "\t\t* [Init](#Init)\n",
    "\t\t\t* [Populating with Pandas!!](#Populating-with-Pandas!!)\n",
    "\t\t\t* [Or populate with SQL INSERT](#Or-populate-with-SQL-INSERT)\n",
    "\t\t\t* [Bulk insert](#Bulk-insert)\n",
    "\t* [Single Table Verbs](#Single-Table-Verbs)\n",
    "\t\t* [QUERY](#QUERY)\n",
    "\t\t* [SORT](#SORT)\n",
    "\t\t* [SELECT-COLUMNS](#SELECT-COLUMNS)\n",
    "\t\t* [SELECT-DISTINCT](#SELECT-DISTINCT)\n",
    "\t\t* [ASSIGN](#ASSIGN)\n",
    "\t\t* [AGGREGATE](#AGGREGATE)\n",
    "\t\t* [GROUP-AGG](#GROUP-AGG)\n",
    "\t\t* [DELETE](#DELETE)\n",
    "\t\t* [LIMIT](#LIMIT)\n",
    "\t* [Indexes](#Indexes)\n",
    "\t* [Relationships: JOINs are Cartesian Products.](#Relationships:-JOINs-are-Cartesian-Products.)\n",
    "\t\t* [Simple subselect](#Simple-subselect)\n",
    "\t\t* [implicit join](#implicit-join)\n",
    "\t\t* [Explicit INNER JOIN](#Explicit-INNER-JOIN)\n",
    "\t\t* [Outer JOIN](#Outer-JOIN)\n",
    "\t\t\t* [left outer (contributors on candidates)](#left-outer-%28contributors-on-candidates%29)\n",
    "\t\t\t* [right outer (contributors on candidates) = left outer (candidates on contributors)](#right-outer-%28contributors-on-candidates%29-=-left-outer-%28candidates-on-contributors%29)\n",
    "\t\t\t* [full outer](#full-outer)\n",
    "\t* [Pandas /SQL](#Pandas-/SQL)\n",
    "\t* [Useful Links](#Useful-Links)\n"
   ]
  },
  {
   "cell_type": "code",
   "execution_count": 1,
   "metadata": {
    "collapsed": true
   },
   "outputs": [],
   "source": [
    "# The %... is an iPython thing, and is not part of the Python language.\n",
    "# In this case we're just telling the plotting library to draw things on\n",
    "# the notebook, instead of on a separate window.\n",
    "%matplotlib inline\n",
    "# See all the \"as ...\" contructs? They're just aliasing the package names.\n",
    "# That way we can call methods like plt.plot() instead of matplotlib.pyplot.plot().\n",
    "import numpy as np\n",
    "import scipy as sp\n",
    "import matplotlib as mpl\n",
    "import matplotlib.cm as cm\n",
    "import matplotlib.pyplot as plt\n",
    "import pandas as pd\n",
    "import time\n",
    "pd.set_option('display.width', 500)\n",
    "pd.set_option('display.max_columns', 100)\n",
    "pd.set_option('display.notebook_repr_html', True)\n",
    "import seaborn as sns\n",
    "sns.set_style(\"whitegrid\")\n",
    "sns.set_context(\"poster\")"
   ]
  },
  {
   "cell_type": "markdown",
   "metadata": {},
   "source": [
    "##Populating the Database"
   ]
  },
  {
   "cell_type": "markdown",
   "metadata": {},
   "source": [
    "Lets start with Relational Databases, so called because they contain \"relations\" (tables), which are SETS of \"tuples\" (rows) which map \"attributes\" to atomic values.\n",
    "\n",
    "The available attributes are constrained by a \"header\" tuple of attributes which set the type. We do this below here."
   ]
  },
  {
   "cell_type": "code",
   "execution_count": 2,
   "metadata": {
    "collapsed": true
   },
   "outputs": [],
   "source": [
    "ourschema=\"\"\"\n",
    "DROP TABLE IF EXISTS \"candidates\";\n",
    "DROP TABLE IF EXISTS \"contributors\";\n",
    "CREATE TABLE \"candidates\" (\n",
    "    \"id\" INTEGER PRIMARY KEY  NOT NULL ,\n",
    "    \"first_name\" VARCHAR,\n",
    "    \"last_name\" VARCHAR,\n",
    "    \"middle_name\" VARCHAR,\n",
    "    \"party\" VARCHAR NOT NULL\n",
    ");\n",
    "CREATE TABLE \"contributors\" (\n",
    "    \"id\" INTEGER PRIMARY KEY  AUTOINCREMENT  NOT NULL,\n",
    "    \"last_name\" VARCHAR,\n",
    "    \"first_name\" VARCHAR,\n",
    "    \"middle_name\" VARCHAR,\n",
    "    \"street_1\" VARCHAR,\n",
    "    \"street_2\" VARCHAR,\n",
    "    \"city\" VARCHAR,\n",
    "    \"state\" VARCHAR,\n",
    "    \"zip\" VARCHAR,\n",
    "    \"amount\" INTEGER,\n",
    "    \"date\" DATETIME,\n",
    "    \"candidate_id\" INTEGER NOT NULL,\n",
    "    FOREIGN KEY(candidate_id) REFERENCES candidates(id)\n",
    ");\n",
    "\"\"\""
   ]
  },
  {
   "cell_type": "markdown",
   "metadata": {},
   "source": [
    "### SQLITE"
   ]
  },
  {
   "cell_type": "markdown",
   "metadata": {},
   "source": [
    "We use sqlite here (and recommend Postgres for production purposes). Still sqlite is great for on-disk large databases which wont fit into memory. \n",
    "\n",
    "Its also built into Python, but to use the [command line tool](https://www.sqlite.org/cli.html), I recommend you install it: https://www.sqlite.org/download.html. I also recommend you download and install the sqlite browser: http://sqlitebrowser.org .\n",
    "\n",
    "Python implements a standard database API over all databases. Its called [DBAPI2](http://cewing.github.io/training.codefellows/lectures/day21/intro_to_dbapi2.html). It works across many SQL databases.\n",
    "\n",
    "There is an even higher level API available, called [SQLAlchemy](http://www.sqlalchemy.org). While we wont use it here, I thoroughly recommend it, either in its direct relational form, or ORM form. Many things in Pandas use it to interface with databases. Here we'll get away with things by using SQLITE."
   ]
  },
  {
   "cell_type": "markdown",
   "metadata": {},
   "source": [
    "---\n",
    "\n",
    "Sqlite is a text or memory based database. Connect and get a DBAPI2 connection."
   ]
  },
  {
   "cell_type": "code",
   "execution_count": 3,
   "metadata": {
    "collapsed": false
   },
   "outputs": [],
   "source": [
    "from sqlite3 import dbapi2 as sq3\n",
    "import os\n",
    "PATHSTART=\".\"\n",
    "def get_db(dbfile):\n",
    "    sqlite_db = sq3.connect(os.path.join(PATHSTART, dbfile))\n",
    "    return sqlite_db"
   ]
  },
  {
   "cell_type": "markdown",
   "metadata": {},
   "source": [
    "Drop tables if they exist and create them."
   ]
  },
  {
   "cell_type": "code",
   "execution_count": 4,
   "metadata": {
    "collapsed": true
   },
   "outputs": [],
   "source": [
    "def init_db(dbfile, schema):\n",
    "    \"\"\"Creates the database tables.\"\"\"\n",
    "    db = get_db(dbfile)\n",
    "    db.cursor().executescript(schema)\n",
    "    db.commit()\n",
    "    return db"
   ]
  },
  {
   "cell_type": "markdown",
   "metadata": {},
   "source": [
    "Use Pandas to read in the data"
   ]
  },
  {
   "cell_type": "code",
   "execution_count": 5,
   "metadata": {
    "collapsed": false
   },
   "outputs": [
    {
     "data": {
      "text/html": [
       "<div>\n",
       "<table border=\"1\" class=\"dataframe\">\n",
       "  <thead>\n",
       "    <tr style=\"text-align: right;\">\n",
       "      <th></th>\n",
       "      <th>id</th>\n",
       "      <th>first_name</th>\n",
       "      <th>last_name</th>\n",
       "      <th>middle_name</th>\n",
       "      <th>party</th>\n",
       "    </tr>\n",
       "  </thead>\n",
       "  <tbody>\n",
       "    <tr>\n",
       "      <th>0</th>\n",
       "      <td>33</td>\n",
       "      <td>Joseph</td>\n",
       "      <td>Biden</td>\n",
       "      <td>NaN</td>\n",
       "      <td>D</td>\n",
       "    </tr>\n",
       "    <tr>\n",
       "      <th>1</th>\n",
       "      <td>36</td>\n",
       "      <td>Samuel</td>\n",
       "      <td>Brownback</td>\n",
       "      <td>NaN</td>\n",
       "      <td>R</td>\n",
       "    </tr>\n",
       "    <tr>\n",
       "      <th>2</th>\n",
       "      <td>34</td>\n",
       "      <td>Hillary</td>\n",
       "      <td>Clinton</td>\n",
       "      <td>R.</td>\n",
       "      <td>D</td>\n",
       "    </tr>\n",
       "    <tr>\n",
       "      <th>3</th>\n",
       "      <td>39</td>\n",
       "      <td>Christopher</td>\n",
       "      <td>Dodd</td>\n",
       "      <td>J.</td>\n",
       "      <td>D</td>\n",
       "    </tr>\n",
       "    <tr>\n",
       "      <th>4</th>\n",
       "      <td>26</td>\n",
       "      <td>John</td>\n",
       "      <td>Edwards</td>\n",
       "      <td>NaN</td>\n",
       "      <td>D</td>\n",
       "    </tr>\n",
       "    <tr>\n",
       "      <th>5</th>\n",
       "      <td>22</td>\n",
       "      <td>Rudolph</td>\n",
       "      <td>Giuliani</td>\n",
       "      <td>NaN</td>\n",
       "      <td>R</td>\n",
       "    </tr>\n",
       "    <tr>\n",
       "      <th>6</th>\n",
       "      <td>24</td>\n",
       "      <td>Mike</td>\n",
       "      <td>Gravel</td>\n",
       "      <td>NaN</td>\n",
       "      <td>D</td>\n",
       "    </tr>\n",
       "    <tr>\n",
       "      <th>7</th>\n",
       "      <td>16</td>\n",
       "      <td>Mike</td>\n",
       "      <td>Huckabee</td>\n",
       "      <td>NaN</td>\n",
       "      <td>R</td>\n",
       "    </tr>\n",
       "    <tr>\n",
       "      <th>8</th>\n",
       "      <td>30</td>\n",
       "      <td>Duncan</td>\n",
       "      <td>Hunter</td>\n",
       "      <td>NaN</td>\n",
       "      <td>R</td>\n",
       "    </tr>\n",
       "    <tr>\n",
       "      <th>9</th>\n",
       "      <td>31</td>\n",
       "      <td>Dennis</td>\n",
       "      <td>Kucinich</td>\n",
       "      <td>NaN</td>\n",
       "      <td>D</td>\n",
       "    </tr>\n",
       "    <tr>\n",
       "      <th>10</th>\n",
       "      <td>37</td>\n",
       "      <td>John</td>\n",
       "      <td>McCain</td>\n",
       "      <td>NaN</td>\n",
       "      <td>R</td>\n",
       "    </tr>\n",
       "    <tr>\n",
       "      <th>11</th>\n",
       "      <td>20</td>\n",
       "      <td>Barack</td>\n",
       "      <td>Obama</td>\n",
       "      <td>NaN</td>\n",
       "      <td>D</td>\n",
       "    </tr>\n",
       "    <tr>\n",
       "      <th>12</th>\n",
       "      <td>32</td>\n",
       "      <td>Ron</td>\n",
       "      <td>Paul</td>\n",
       "      <td>NaN</td>\n",
       "      <td>R</td>\n",
       "    </tr>\n",
       "    <tr>\n",
       "      <th>13</th>\n",
       "      <td>29</td>\n",
       "      <td>Bill</td>\n",
       "      <td>Richardson</td>\n",
       "      <td>NaN</td>\n",
       "      <td>D</td>\n",
       "    </tr>\n",
       "    <tr>\n",
       "      <th>14</th>\n",
       "      <td>35</td>\n",
       "      <td>Mitt</td>\n",
       "      <td>Romney</td>\n",
       "      <td>NaN</td>\n",
       "      <td>R</td>\n",
       "    </tr>\n",
       "    <tr>\n",
       "      <th>15</th>\n",
       "      <td>38</td>\n",
       "      <td>Tom</td>\n",
       "      <td>Tancredo</td>\n",
       "      <td>NaN</td>\n",
       "      <td>R</td>\n",
       "    </tr>\n",
       "    <tr>\n",
       "      <th>16</th>\n",
       "      <td>41</td>\n",
       "      <td>Fred</td>\n",
       "      <td>Thompson</td>\n",
       "      <td>D.</td>\n",
       "      <td>R</td>\n",
       "    </tr>\n",
       "  </tbody>\n",
       "</table>\n",
       "</div>"
      ],
      "text/plain": [
       "    id   first_name   last_name middle_name party\n",
       "0   33       Joseph       Biden         NaN     D\n",
       "1   36       Samuel   Brownback         NaN     R\n",
       "2   34      Hillary     Clinton          R.     D\n",
       "3   39  Christopher        Dodd          J.     D\n",
       "4   26         John     Edwards         NaN     D\n",
       "5   22      Rudolph    Giuliani         NaN     R\n",
       "6   24         Mike      Gravel         NaN     D\n",
       "7   16         Mike    Huckabee         NaN     R\n",
       "8   30       Duncan      Hunter         NaN     R\n",
       "9   31       Dennis    Kucinich         NaN     D\n",
       "10  37         John      McCain         NaN     R\n",
       "11  20       Barack       Obama         NaN     D\n",
       "12  32          Ron        Paul         NaN     R\n",
       "13  29         Bill  Richardson         NaN     D\n",
       "14  35         Mitt      Romney         NaN     R\n",
       "15  38          Tom    Tancredo         NaN     R\n",
       "16  41         Fred    Thompson          D.     R"
      ]
     },
     "execution_count": 5,
     "metadata": {},
     "output_type": "execute_result"
    }
   ],
   "source": [
    "dfcand=pd.read_csv(\"./candidates.txt\", sep='|')\n",
    "dfcand"
   ]
  },
  {
   "cell_type": "code",
   "execution_count": 9,
   "metadata": {
    "collapsed": false
   },
   "outputs": [
    {
     "data": {
      "text/html": [
       "<div>\n",
       "<table border=\"1\" class=\"dataframe\">\n",
       "  <thead>\n",
       "    <tr style=\"text-align: right;\">\n",
       "      <th></th>\n",
       "      <th>id</th>\n",
       "      <th>last_name</th>\n",
       "      <th>first_name</th>\n",
       "      <th>middle_name</th>\n",
       "      <th>street_1</th>\n",
       "      <th>street_2</th>\n",
       "      <th>city</th>\n",
       "      <th>state</th>\n",
       "      <th>zip</th>\n",
       "      <th>amount</th>\n",
       "      <th>date</th>\n",
       "      <th>candidate_id</th>\n",
       "    </tr>\n",
       "  </thead>\n",
       "  <tbody>\n",
       "    <tr>\n",
       "      <th>0</th>\n",
       "      <td>NaN</td>\n",
       "      <td>Agee</td>\n",
       "      <td>Steven</td>\n",
       "      <td>NaN</td>\n",
       "      <td>549 Laurel Branch Road</td>\n",
       "      <td>NaN</td>\n",
       "      <td>Floyd</td>\n",
       "      <td>VA</td>\n",
       "      <td>24091</td>\n",
       "      <td>500.0</td>\n",
       "      <td>2007-06-30</td>\n",
       "      <td>16</td>\n",
       "    </tr>\n",
       "    <tr>\n",
       "      <th>1</th>\n",
       "      <td>NaN</td>\n",
       "      <td>Ahrens</td>\n",
       "      <td>Don</td>\n",
       "      <td>NaN</td>\n",
       "      <td>4034 Rennellwood Way</td>\n",
       "      <td>NaN</td>\n",
       "      <td>Pleasanton</td>\n",
       "      <td>CA</td>\n",
       "      <td>94566</td>\n",
       "      <td>250.0</td>\n",
       "      <td>2007-05-16</td>\n",
       "      <td>16</td>\n",
       "    </tr>\n",
       "    <tr>\n",
       "      <th>2</th>\n",
       "      <td>NaN</td>\n",
       "      <td>Ahrens</td>\n",
       "      <td>Don</td>\n",
       "      <td>NaN</td>\n",
       "      <td>4034 Rennellwood Way</td>\n",
       "      <td>NaN</td>\n",
       "      <td>Pleasanton</td>\n",
       "      <td>CA</td>\n",
       "      <td>94566</td>\n",
       "      <td>50.0</td>\n",
       "      <td>2007-06-18</td>\n",
       "      <td>16</td>\n",
       "    </tr>\n",
       "    <tr>\n",
       "      <th>3</th>\n",
       "      <td>NaN</td>\n",
       "      <td>Ahrens</td>\n",
       "      <td>Don</td>\n",
       "      <td>NaN</td>\n",
       "      <td>4034 Rennellwood Way</td>\n",
       "      <td>NaN</td>\n",
       "      <td>Pleasanton</td>\n",
       "      <td>CA</td>\n",
       "      <td>94566</td>\n",
       "      <td>100.0</td>\n",
       "      <td>2007-06-21</td>\n",
       "      <td>16</td>\n",
       "    </tr>\n",
       "    <tr>\n",
       "      <th>4</th>\n",
       "      <td>NaN</td>\n",
       "      <td>Akin</td>\n",
       "      <td>Charles</td>\n",
       "      <td>NaN</td>\n",
       "      <td>10187 Sugar Creek Road</td>\n",
       "      <td>NaN</td>\n",
       "      <td>Bentonville</td>\n",
       "      <td>AR</td>\n",
       "      <td>72712</td>\n",
       "      <td>100.0</td>\n",
       "      <td>2007-06-16</td>\n",
       "      <td>16</td>\n",
       "    </tr>\n",
       "  </tbody>\n",
       "</table>\n",
       "</div>"
      ],
      "text/plain": [
       "   id last_name first_name middle_name                street_1 street_2         city state    zip  amount        date  candidate_id\n",
       "0 NaN      Agee     Steven         NaN  549 Laurel Branch Road      NaN        Floyd    VA  24091   500.0  2007-06-30            16\n",
       "1 NaN    Ahrens        Don         NaN    4034 Rennellwood Way      NaN   Pleasanton    CA  94566   250.0  2007-05-16            16\n",
       "2 NaN    Ahrens        Don         NaN    4034 Rennellwood Way      NaN   Pleasanton    CA  94566    50.0  2007-06-18            16\n",
       "3 NaN    Ahrens        Don         NaN    4034 Rennellwood Way      NaN   Pleasanton    CA  94566   100.0  2007-06-21            16\n",
       "4 NaN      Akin    Charles         NaN  10187 Sugar Creek Road      NaN  Bentonville    AR  72712   100.0  2007-06-16            16"
      ]
     },
     "execution_count": 9,
     "metadata": {},
     "output_type": "execute_result"
    }
   ],
   "source": [
    "dfcwci=pd.read_csv(\"./contributors_with_candidate_id.txt\", sep=\"|\")\n",
    "dfcwci.head()"
   ]
  },
  {
   "cell_type": "code",
   "execution_count": 7,
   "metadata": {
    "collapsed": false
   },
   "outputs": [
    {
     "data": {
      "text/html": [
       "<div>\n",
       "<table border=\"1\" class=\"dataframe\">\n",
       "  <thead>\n",
       "    <tr style=\"text-align: right;\">\n",
       "      <th></th>\n",
       "      <th>last_name</th>\n",
       "      <th>first_name</th>\n",
       "      <th>middle_name</th>\n",
       "      <th>street_1</th>\n",
       "      <th>street_2</th>\n",
       "      <th>city</th>\n",
       "      <th>state</th>\n",
       "      <th>zip</th>\n",
       "      <th>amount</th>\n",
       "      <th>date</th>\n",
       "      <th>candidate_id</th>\n",
       "    </tr>\n",
       "  </thead>\n",
       "  <tbody>\n",
       "    <tr>\n",
       "      <th>0</th>\n",
       "      <td>Agee</td>\n",
       "      <td>Steven</td>\n",
       "      <td>NaN</td>\n",
       "      <td>549 Laurel Branch Road</td>\n",
       "      <td>NaN</td>\n",
       "      <td>Floyd</td>\n",
       "      <td>VA</td>\n",
       "      <td>24091</td>\n",
       "      <td>500.0</td>\n",
       "      <td>2007-06-30</td>\n",
       "      <td>16</td>\n",
       "    </tr>\n",
       "    <tr>\n",
       "      <th>1</th>\n",
       "      <td>Ahrens</td>\n",
       "      <td>Don</td>\n",
       "      <td>NaN</td>\n",
       "      <td>4034 Rennellwood Way</td>\n",
       "      <td>NaN</td>\n",
       "      <td>Pleasanton</td>\n",
       "      <td>CA</td>\n",
       "      <td>94566</td>\n",
       "      <td>250.0</td>\n",
       "      <td>2007-05-16</td>\n",
       "      <td>16</td>\n",
       "    </tr>\n",
       "    <tr>\n",
       "      <th>2</th>\n",
       "      <td>Ahrens</td>\n",
       "      <td>Don</td>\n",
       "      <td>NaN</td>\n",
       "      <td>4034 Rennellwood Way</td>\n",
       "      <td>NaN</td>\n",
       "      <td>Pleasanton</td>\n",
       "      <td>CA</td>\n",
       "      <td>94566</td>\n",
       "      <td>50.0</td>\n",
       "      <td>2007-06-18</td>\n",
       "      <td>16</td>\n",
       "    </tr>\n",
       "    <tr>\n",
       "      <th>3</th>\n",
       "      <td>Ahrens</td>\n",
       "      <td>Don</td>\n",
       "      <td>NaN</td>\n",
       "      <td>4034 Rennellwood Way</td>\n",
       "      <td>NaN</td>\n",
       "      <td>Pleasanton</td>\n",
       "      <td>CA</td>\n",
       "      <td>94566</td>\n",
       "      <td>100.0</td>\n",
       "      <td>2007-06-21</td>\n",
       "      <td>16</td>\n",
       "    </tr>\n",
       "    <tr>\n",
       "      <th>4</th>\n",
       "      <td>Akin</td>\n",
       "      <td>Charles</td>\n",
       "      <td>NaN</td>\n",
       "      <td>10187 Sugar Creek Road</td>\n",
       "      <td>NaN</td>\n",
       "      <td>Bentonville</td>\n",
       "      <td>AR</td>\n",
       "      <td>72712</td>\n",
       "      <td>100.0</td>\n",
       "      <td>2007-06-16</td>\n",
       "      <td>16</td>\n",
       "    </tr>\n",
       "  </tbody>\n",
       "</table>\n",
       "</div>"
      ],
      "text/plain": [
       "  last_name first_name middle_name                street_1 street_2         city state    zip  amount        date  candidate_id\n",
       "0      Agee     Steven         NaN  549 Laurel Branch Road      NaN        Floyd    VA  24091   500.0  2007-06-30            16\n",
       "1    Ahrens        Don         NaN    4034 Rennellwood Way      NaN   Pleasanton    CA  94566   250.0  2007-05-16            16\n",
       "2    Ahrens        Don         NaN    4034 Rennellwood Way      NaN   Pleasanton    CA  94566    50.0  2007-06-18            16\n",
       "3    Ahrens        Don         NaN    4034 Rennellwood Way      NaN   Pleasanton    CA  94566   100.0  2007-06-21            16\n",
       "4      Akin    Charles         NaN  10187 Sugar Creek Road      NaN  Bentonville    AR  72712   100.0  2007-06-16            16"
      ]
     },
     "execution_count": 7,
     "metadata": {},
     "output_type": "execute_result"
    }
   ],
   "source": [
    "del dfcwci['id']\n",
    "dfcwci.head()"
   ]
  },
  {
   "cell_type": "markdown",
   "metadata": {},
   "source": [
    "###Init"
   ]
  },
  {
   "cell_type": "markdown",
   "metadata": {},
   "source": [
    "Initializing the database"
   ]
  },
  {
   "cell_type": "code",
   "execution_count": 6,
   "metadata": {
    "collapsed": false
   },
   "outputs": [],
   "source": [
    "db=init_db(\"cancont.db\", ourschema)"
   ]
  },
  {
   "cell_type": "markdown",
   "metadata": {},
   "source": [
    "####Populating with Pandas!!"
   ]
  },
  {
   "cell_type": "code",
   "execution_count": 7,
   "metadata": {
    "collapsed": false
   },
   "outputs": [],
   "source": [
    "dfcand.to_sql(\"candidates\", db, if_exists=\"append\", index=False)"
   ]
  },
  {
   "cell_type": "code",
   "execution_count": 10,
   "metadata": {
    "collapsed": false
   },
   "outputs": [],
   "source": [
    "dfcwci.to_sql(\"contributors\", db, if_exists=\"append\", index=False)"
   ]
  },
  {
   "cell_type": "code",
   "execution_count": 11,
   "metadata": {
    "collapsed": false
   },
   "outputs": [
    {
     "data": {
      "text/plain": [
       "(175, 12)"
      ]
     },
     "execution_count": 11,
     "metadata": {},
     "output_type": "execute_result"
    }
   ],
   "source": [
    "dfcwci.shape"
   ]
  },
  {
   "cell_type": "code",
   "execution_count": 12,
   "metadata": {
    "collapsed": false
   },
   "outputs": [],
   "source": [
    "sel=\"\"\"\n",
    "SELECT * FROM candidates;\n",
    "\"\"\"\n",
    "c=db.cursor().execute(sel)"
   ]
  },
  {
   "cell_type": "code",
   "execution_count": 13,
   "metadata": {
    "collapsed": false
   },
   "outputs": [
    {
     "data": {
      "text/plain": [
       "[(16, 'Mike', 'Huckabee', None, 'R'),\n",
       " (20, 'Barack', 'Obama', None, 'D'),\n",
       " (22, 'Rudolph', 'Giuliani', None, 'R'),\n",
       " (24, 'Mike', 'Gravel', None, 'D'),\n",
       " (26, 'John', 'Edwards', None, 'D'),\n",
       " (29, 'Bill', 'Richardson', None, 'D'),\n",
       " (30, 'Duncan', 'Hunter', None, 'R'),\n",
       " (31, 'Dennis', 'Kucinich', None, 'D'),\n",
       " (32, 'Ron', 'Paul', None, 'R'),\n",
       " (33, 'Joseph', 'Biden', None, 'D'),\n",
       " (34, 'Hillary', 'Clinton', 'R.', 'D'),\n",
       " (35, 'Mitt', 'Romney', None, 'R'),\n",
       " (36, 'Samuel', 'Brownback', None, 'R'),\n",
       " (37, 'John', 'McCain', None, 'R'),\n",
       " (38, 'Tom', 'Tancredo', None, 'R'),\n",
       " (39, 'Christopher', 'Dodd', 'J.', 'D'),\n",
       " (41, 'Fred', 'Thompson', 'D.', 'R')]"
      ]
     },
     "execution_count": 13,
     "metadata": {},
     "output_type": "execute_result"
    }
   ],
   "source": [
    "c.fetchall()"
   ]
  },
  {
   "cell_type": "code",
   "execution_count": 14,
   "metadata": {
    "collapsed": true
   },
   "outputs": [],
   "source": [
    "rem=\"\"\"\n",
    "DELETE FROM candidates;\n",
    "\"\"\"\n",
    "c=db.cursor().execute(rem)\n",
    "db.commit()"
   ]
  },
  {
   "cell_type": "code",
   "execution_count": 15,
   "metadata": {
    "collapsed": false
   },
   "outputs": [
    {
     "data": {
      "text/plain": [
       "[]"
      ]
     },
     "execution_count": 15,
     "metadata": {},
     "output_type": "execute_result"
    }
   ],
   "source": [
    "c.fetchall()"
   ]
  },
  {
   "cell_type": "markdown",
   "metadata": {},
   "source": [
    "####Or populate with SQL INSERT"
   ]
  },
  {
   "cell_type": "markdown",
   "metadata": {},
   "source": [
    "![xkcd-sqlinj](http://imgs.xkcd.com/comics/exploits_of_a_mom.png)"
   ]
  },
  {
   "cell_type": "code",
   "execution_count": 17,
   "metadata": {
    "collapsed": false
   },
   "outputs": [
    {
     "name": "stdout",
     "output_type": "stream",
     "text": [
      "33 Joseph Biden  D\n",
      "\n",
      "INSERT INTO candidates (id, first_name, last_name, middle_name, party)     VALUES (?,?,?,?,?);\n",
      " (33, 'Joseph', 'Biden', '', 'D')\n",
      "36 Samuel Brownback  R\n",
      "\n",
      "INSERT INTO candidates (id, first_name, last_name, middle_name, party)     VALUES (?,?,?,?,?);\n",
      " (36, 'Samuel', 'Brownback', '', 'R')\n",
      "34 Hillary Clinton R. D\n",
      "\n",
      "INSERT INTO candidates (id, first_name, last_name, middle_name, party)     VALUES (?,?,?,?,?);\n",
      " (34, 'Hillary', 'Clinton', 'R.', 'D')\n",
      "39 Christopher Dodd J. D\n",
      "\n",
      "INSERT INTO candidates (id, first_name, last_name, middle_name, party)     VALUES (?,?,?,?,?);\n",
      " (39, 'Christopher', 'Dodd', 'J.', 'D')\n",
      "26 John Edwards  D\n",
      "\n",
      "INSERT INTO candidates (id, first_name, last_name, middle_name, party)     VALUES (?,?,?,?,?);\n",
      " (26, 'John', 'Edwards', '', 'D')\n",
      "22 Rudolph Giuliani  R\n",
      "\n",
      "INSERT INTO candidates (id, first_name, last_name, middle_name, party)     VALUES (?,?,?,?,?);\n",
      " (22, 'Rudolph', 'Giuliani', '', 'R')\n",
      "24 Mike Gravel  D\n",
      "\n",
      "INSERT INTO candidates (id, first_name, last_name, middle_name, party)     VALUES (?,?,?,?,?);\n",
      " (24, 'Mike', 'Gravel', '', 'D')\n",
      "16 Mike Huckabee  R\n",
      "\n",
      "INSERT INTO candidates (id, first_name, last_name, middle_name, party)     VALUES (?,?,?,?,?);\n",
      " (16, 'Mike', 'Huckabee', '', 'R')\n",
      "30 Duncan Hunter  R\n",
      "\n",
      "INSERT INTO candidates (id, first_name, last_name, middle_name, party)     VALUES (?,?,?,?,?);\n",
      " (30, 'Duncan', 'Hunter', '', 'R')\n",
      "31 Dennis Kucinich  D\n",
      "\n",
      "INSERT INTO candidates (id, first_name, last_name, middle_name, party)     VALUES (?,?,?,?,?);\n",
      " (31, 'Dennis', 'Kucinich', '', 'D')\n",
      "37 John McCain  R\n",
      "\n",
      "INSERT INTO candidates (id, first_name, last_name, middle_name, party)     VALUES (?,?,?,?,?);\n",
      " (37, 'John', 'McCain', '', 'R')\n",
      "20 Barack Obama  D\n",
      "\n",
      "INSERT INTO candidates (id, first_name, last_name, middle_name, party)     VALUES (?,?,?,?,?);\n",
      " (20, 'Barack', 'Obama', '', 'D')\n",
      "32 Ron Paul  R\n",
      "\n",
      "INSERT INTO candidates (id, first_name, last_name, middle_name, party)     VALUES (?,?,?,?,?);\n",
      " (32, 'Ron', 'Paul', '', 'R')\n",
      "29 Bill Richardson  D\n",
      "\n",
      "INSERT INTO candidates (id, first_name, last_name, middle_name, party)     VALUES (?,?,?,?,?);\n",
      " (29, 'Bill', 'Richardson', '', 'D')\n",
      "35 Mitt Romney  R\n",
      "\n",
      "INSERT INTO candidates (id, first_name, last_name, middle_name, party)     VALUES (?,?,?,?,?);\n",
      " (35, 'Mitt', 'Romney', '', 'R')\n",
      "38 Tom Tancredo  R\n",
      "\n",
      "INSERT INTO candidates (id, first_name, last_name, middle_name, party)     VALUES (?,?,?,?,?);\n",
      " (38, 'Tom', 'Tancredo', '', 'R')\n",
      "41 Fred Thompson D. R\n",
      "\n",
      "INSERT INTO candidates (id, first_name, last_name, middle_name, party)     VALUES (?,?,?,?,?);\n",
      " (41, 'Fred', 'Thompson', 'D.', 'R')\n"
     ]
    }
   ],
   "source": [
    "ins=\"\"\"\n",
    "INSERT INTO candidates (id, first_name, last_name, middle_name, party) \\\n",
    "    VALUES (?,?,?,?,?);\n",
    "\"\"\"\n",
    "with open(\"candidates.txt\") as fd:\n",
    "    slines =[l.strip().split('|') for l in fd.readlines()]\n",
    "    for line in slines[1:]:\n",
    "        theid, first_name, last_name, middle_name, party = line\n",
    "        print (theid, first_name, last_name, middle_name, party)\n",
    "        valstoinsert = (int(theid), first_name, last_name, middle_name, party)\n",
    "        print (ins, valstoinsert)\n",
    "        db.cursor().execute(ins, valstoinsert)\n",
    "        \n",
    "    "
   ]
  },
  {
   "cell_type": "code",
   "execution_count": 18,
   "metadata": {
    "collapsed": true
   },
   "outputs": [],
   "source": [
    "def make_query(sel):\n",
    "    c=db.cursor().execute(sel)\n",
    "    return c.fetchall()"
   ]
  },
  {
   "cell_type": "code",
   "execution_count": 19,
   "metadata": {
    "collapsed": false
   },
   "outputs": [
    {
     "data": {
      "text/plain": [
       "[(16, 'Mike', 'Huckabee', '', 'R'),\n",
       " (20, 'Barack', 'Obama', '', 'D'),\n",
       " (22, 'Rudolph', 'Giuliani', '', 'R'),\n",
       " (24, 'Mike', 'Gravel', '', 'D'),\n",
       " (26, 'John', 'Edwards', '', 'D'),\n",
       " (29, 'Bill', 'Richardson', '', 'D'),\n",
       " (30, 'Duncan', 'Hunter', '', 'R'),\n",
       " (31, 'Dennis', 'Kucinich', '', 'D'),\n",
       " (32, 'Ron', 'Paul', '', 'R'),\n",
       " (33, 'Joseph', 'Biden', '', 'D'),\n",
       " (34, 'Hillary', 'Clinton', 'R.', 'D'),\n",
       " (35, 'Mitt', 'Romney', '', 'R'),\n",
       " (36, 'Samuel', 'Brownback', '', 'R'),\n",
       " (37, 'John', 'McCain', '', 'R'),\n",
       " (38, 'Tom', 'Tancredo', '', 'R'),\n",
       " (39, 'Christopher', 'Dodd', 'J.', 'D'),\n",
       " (41, 'Fred', 'Thompson', 'D.', 'R')]"
      ]
     },
     "execution_count": 19,
     "metadata": {},
     "output_type": "execute_result"
    }
   ],
   "source": [
    "make_query(\"SELECT * FROM candidates;\")"
   ]
  },
  {
   "cell_type": "code",
   "execution_count": 20,
   "metadata": {
    "collapsed": true
   },
   "outputs": [],
   "source": [
    "rem=\"\"\"\n",
    "DELETE FROM candidates;\n",
    "\"\"\"\n",
    "c=db.cursor().execute(rem)\n",
    "db.commit()"
   ]
  },
  {
   "cell_type": "markdown",
   "metadata": {},
   "source": [
    "####Bulk insert"
   ]
  },
  {
   "cell_type": "markdown",
   "metadata": {},
   "source": [
    "You almost always have to do this from the command line. Its typically faster, but also different foe every database"
   ]
  },
  {
   "cell_type": "code",
   "execution_count": null,
   "metadata": {
    "collapsed": false
   },
   "outputs": [],
   "source": [
    "%%bash\n",
    "tail -n +2 candidates.txt > candidates_nohead.txt\n",
    "echo \".import candidates_nohead.txt candidates\" | sqlite3 cancont.db"
   ]
  },
  {
   "cell_type": "code",
   "execution_count": null,
   "metadata": {
    "collapsed": false
   },
   "outputs": [],
   "source": [
    "make_query(\"SELECT * FROM candidates;\")"
   ]
  },
  {
   "cell_type": "markdown",
   "metadata": {},
   "source": [
    "##Single Table Verbs"
   ]
  },
  {
   "cell_type": "markdown",
   "metadata": {},
   "source": [
    "Let us now focus on core data manipulation commands. The reason to do this is that they are *universal across systems, and by identifying them, we can quickly ask how to do these* when we encounter a new system."
   ]
  },
  {
   "cell_type": "markdown",
   "metadata": {},
   "source": [
    "See https://gist.github.com/TomAugspurger/6e052140eaa5fdb6e8c0/ which has a comparison of r/dplyr and pandas. I stole and modified this table from there:\n",
    "\n",
    "``dplyr`` has a small set of nicely defined verbs. I've listed their closest pandas verbs.\n",
    "\n",
    "\n",
    "<table>\n",
    "  <tr>\n",
    "    <th><b>VERB</b></th>\n",
    "    <th><b>dplyr</b></th>\n",
    "    <th><b>pandas</b></th>\n",
    "    <th><b>SQL</b></th>\n",
    "  </tr>\n",
    "  <tr>\n",
    "    <td>QUERY/SELECTION</td>\n",
    "    <td>filter() (and slice())</td>\n",
    "    <td>query() (and loc[], iloc[])</td>\n",
    "    <td>SELECT WHERE</td>\n",
    "  </tr>\n",
    "  <tr>\n",
    "    <td>SORT</td>\n",
    "    <td>arrange()</td>\n",
    "    <td>sort()</td>\n",
    "    <td>ORDER BY</td>\n",
    "  </tr>\n",
    "  <tr>\n",
    "    <td>SELECT-COLUMNS/PROJECTION</td>\n",
    "    <td>select() (and rename())</td>\n",
    "    <td>[](__getitem__) (and rename())</td>\n",
    "    <td>SELECT COLUMN</td>\n",
    "  </tr>\n",
    "  <tr>\n",
    "    <td>SELECT-DISTINCT</td>\n",
    "    <td>distinct()</td>\n",
    "    <td>unique(),drop_duplicates()</td>\n",
    "    <td>SELECT DISTINCT COLUMN</td>\n",
    "  </tr>\n",
    "  <tr>\n",
    "    <td>ASSIGN</td>\n",
    "    <td>mutate() (and transmute())</td>\n",
    "    <td>assign</td>\n",
    "    <td>ALTER/UPDATE</td>\n",
    "  </tr>\n",
    "  <tr>\n",
    "    <td>AGGREGATE</td>\n",
    "    <td>summarise()</td>\n",
    "    <td>describe(), mean(), max()</td>\n",
    "    <td>None, AVG(),MAX()</td>\n",
    "  </tr>\n",
    "  <tr>\n",
    "    <td>SAMPLE</td>\n",
    "    <td>sample_n() and sample_frac()</td>\n",
    "    <td>sample()</td>\n",
    "    <td>implementation dep, use RAND()</td>\n",
    "  </tr>\n",
    "  <tr>\n",
    "    <td>GROUP-AGG</td>\n",
    "    <td>group_by/summarize</td>\n",
    "    <td>groupby/agg, count, mean</td>\n",
    "    <td>GROUP BY</td>\n",
    "  </tr>\n",
    "  <tr>\n",
    "    <td>DELETE</td>\n",
    "    <td>?</td>\n",
    "    <td>drop/masking</td>\n",
    "    <td>DELETE/WHERE</td>\n",
    "  </tr>\n",
    "</table>\n"
   ]
  },
  {
   "cell_type": "code",
   "execution_count": 14,
   "metadata": {
    "collapsed": false
   },
   "outputs": [
    {
     "data": {
      "text/html": [
       "<div>\n",
       "<table border=\"1\" class=\"dataframe\">\n",
       "  <thead>\n",
       "    <tr style=\"text-align: right;\">\n",
       "      <th></th>\n",
       "      <th>id</th>\n",
       "      <th>last_name</th>\n",
       "      <th>first_name</th>\n",
       "      <th>middle_name</th>\n",
       "      <th>street_1</th>\n",
       "      <th>street_2</th>\n",
       "      <th>city</th>\n",
       "      <th>state</th>\n",
       "      <th>zip</th>\n",
       "      <th>amount</th>\n",
       "      <th>date</th>\n",
       "      <th>candidate_id</th>\n",
       "    </tr>\n",
       "  </thead>\n",
       "  <tbody>\n",
       "    <tr>\n",
       "      <th>0</th>\n",
       "      <td>NaN</td>\n",
       "      <td>Agee</td>\n",
       "      <td>Steven</td>\n",
       "      <td>NaN</td>\n",
       "      <td>549 Laurel Branch Road</td>\n",
       "      <td>NaN</td>\n",
       "      <td>Floyd</td>\n",
       "      <td>VA</td>\n",
       "      <td>24091</td>\n",
       "      <td>500.0</td>\n",
       "      <td>2007-06-30</td>\n",
       "      <td>16</td>\n",
       "    </tr>\n",
       "    <tr>\n",
       "      <th>1</th>\n",
       "      <td>NaN</td>\n",
       "      <td>Ahrens</td>\n",
       "      <td>Don</td>\n",
       "      <td>NaN</td>\n",
       "      <td>4034 Rennellwood Way</td>\n",
       "      <td>NaN</td>\n",
       "      <td>Pleasanton</td>\n",
       "      <td>CA</td>\n",
       "      <td>94566</td>\n",
       "      <td>250.0</td>\n",
       "      <td>2007-05-16</td>\n",
       "      <td>16</td>\n",
       "    </tr>\n",
       "    <tr>\n",
       "      <th>2</th>\n",
       "      <td>NaN</td>\n",
       "      <td>Ahrens</td>\n",
       "      <td>Don</td>\n",
       "      <td>NaN</td>\n",
       "      <td>4034 Rennellwood Way</td>\n",
       "      <td>NaN</td>\n",
       "      <td>Pleasanton</td>\n",
       "      <td>CA</td>\n",
       "      <td>94566</td>\n",
       "      <td>50.0</td>\n",
       "      <td>2007-06-18</td>\n",
       "      <td>16</td>\n",
       "    </tr>\n",
       "    <tr>\n",
       "      <th>3</th>\n",
       "      <td>NaN</td>\n",
       "      <td>Ahrens</td>\n",
       "      <td>Don</td>\n",
       "      <td>NaN</td>\n",
       "      <td>4034 Rennellwood Way</td>\n",
       "      <td>NaN</td>\n",
       "      <td>Pleasanton</td>\n",
       "      <td>CA</td>\n",
       "      <td>94566</td>\n",
       "      <td>100.0</td>\n",
       "      <td>2007-06-21</td>\n",
       "      <td>16</td>\n",
       "    </tr>\n",
       "    <tr>\n",
       "      <th>4</th>\n",
       "      <td>NaN</td>\n",
       "      <td>Akin</td>\n",
       "      <td>Charles</td>\n",
       "      <td>NaN</td>\n",
       "      <td>10187 Sugar Creek Road</td>\n",
       "      <td>NaN</td>\n",
       "      <td>Bentonville</td>\n",
       "      <td>AR</td>\n",
       "      <td>72712</td>\n",
       "      <td>100.0</td>\n",
       "      <td>2007-06-16</td>\n",
       "      <td>16</td>\n",
       "    </tr>\n",
       "  </tbody>\n",
       "</table>\n",
       "</div>"
      ],
      "text/plain": [
       "   id last_name first_name middle_name                street_1 street_2         city state    zip  amount        date  candidate_id\n",
       "0 NaN      Agee     Steven         NaN  549 Laurel Branch Road      NaN        Floyd    VA  24091   500.0  2007-06-30            16\n",
       "1 NaN    Ahrens        Don         NaN    4034 Rennellwood Way      NaN   Pleasanton    CA  94566   250.0  2007-05-16            16\n",
       "2 NaN    Ahrens        Don         NaN    4034 Rennellwood Way      NaN   Pleasanton    CA  94566    50.0  2007-06-18            16\n",
       "3 NaN    Ahrens        Don         NaN    4034 Rennellwood Way      NaN   Pleasanton    CA  94566   100.0  2007-06-21            16\n",
       "4 NaN      Akin    Charles         NaN  10187 Sugar Creek Road      NaN  Bentonville    AR  72712   100.0  2007-06-16            16"
      ]
     },
     "execution_count": 14,
     "metadata": {},
     "output_type": "execute_result"
    }
   ],
   "source": [
    "dfcwci.head()"
   ]
  },
  {
   "cell_type": "markdown",
   "metadata": {},
   "source": [
    "###QUERY"
   ]
  },
  {
   "cell_type": "code",
   "execution_count": 15,
   "metadata": {
    "collapsed": false
   },
   "outputs": [
    {
     "data": {
      "text/html": [
       "<div>\n",
       "<table border=\"1\" class=\"dataframe\">\n",
       "  <thead>\n",
       "    <tr style=\"text-align: right;\">\n",
       "      <th></th>\n",
       "      <th>id</th>\n",
       "      <th>last_name</th>\n",
       "      <th>first_name</th>\n",
       "      <th>middle_name</th>\n",
       "      <th>street_1</th>\n",
       "      <th>street_2</th>\n",
       "      <th>city</th>\n",
       "      <th>state</th>\n",
       "      <th>zip</th>\n",
       "      <th>amount</th>\n",
       "      <th>date</th>\n",
       "      <th>candidate_id</th>\n",
       "    </tr>\n",
       "  </thead>\n",
       "  <tbody>\n",
       "    <tr>\n",
       "      <th>27</th>\n",
       "      <td>NaN</td>\n",
       "      <td>Buckheit</td>\n",
       "      <td>Bruce</td>\n",
       "      <td>NaN</td>\n",
       "      <td>8904 KAREN DR</td>\n",
       "      <td>NaN</td>\n",
       "      <td>FAIRFAX</td>\n",
       "      <td>VA</td>\n",
       "      <td>220312731</td>\n",
       "      <td>100.00</td>\n",
       "      <td>2007-09-19</td>\n",
       "      <td>20</td>\n",
       "    </tr>\n",
       "    <tr>\n",
       "      <th>77</th>\n",
       "      <td>NaN</td>\n",
       "      <td>Ranganath</td>\n",
       "      <td>Anoop</td>\n",
       "      <td>NaN</td>\n",
       "      <td>2507 Willard Drive</td>\n",
       "      <td>NaN</td>\n",
       "      <td>Charlottesville</td>\n",
       "      <td>VA</td>\n",
       "      <td>22903</td>\n",
       "      <td>-100.00</td>\n",
       "      <td>2008-04-21</td>\n",
       "      <td>32</td>\n",
       "    </tr>\n",
       "    <tr>\n",
       "      <th>88</th>\n",
       "      <td>NaN</td>\n",
       "      <td>Perreault</td>\n",
       "      <td>Louise</td>\n",
       "      <td>NaN</td>\n",
       "      <td>503 Brockridge Hunt Drive</td>\n",
       "      <td>NaN</td>\n",
       "      <td>Hampton</td>\n",
       "      <td>VA</td>\n",
       "      <td>23666</td>\n",
       "      <td>-34.08</td>\n",
       "      <td>2008-04-21</td>\n",
       "      <td>32</td>\n",
       "    </tr>\n",
       "    <tr>\n",
       "      <th>145</th>\n",
       "      <td>NaN</td>\n",
       "      <td>ABDELLA</td>\n",
       "      <td>THOMAS</td>\n",
       "      <td>M.</td>\n",
       "      <td>4231 MONUMENT WALL WAY #340</td>\n",
       "      <td>NaN</td>\n",
       "      <td>FAIRFAX</td>\n",
       "      <td>VA</td>\n",
       "      <td>220308440</td>\n",
       "      <td>50.00</td>\n",
       "      <td>2007-09-30</td>\n",
       "      <td>35</td>\n",
       "    </tr>\n",
       "  </tbody>\n",
       "</table>\n",
       "</div>"
      ],
      "text/plain": [
       "     id  last_name first_name middle_name                     street_1 street_2             city state        zip  amount        date  candidate_id\n",
       "27  NaN   Buckheit      Bruce         NaN                8904 KAREN DR      NaN          FAIRFAX    VA  220312731  100.00  2007-09-19            20\n",
       "77  NaN  Ranganath      Anoop         NaN           2507 Willard Drive      NaN  Charlottesville    VA      22903 -100.00  2008-04-21            32\n",
       "88  NaN  Perreault     Louise         NaN    503 Brockridge Hunt Drive      NaN          Hampton    VA      23666  -34.08  2008-04-21            32\n",
       "145 NaN    ABDELLA     THOMAS          M.  4231 MONUMENT WALL WAY #340      NaN          FAIRFAX    VA  220308440   50.00  2007-09-30            35"
      ]
     },
     "execution_count": 15,
     "metadata": {},
     "output_type": "execute_result"
    }
   ],
   "source": [
    "dfcwci.query(\"state=='VA' & amount < 400\")"
   ]
  },
  {
   "cell_type": "code",
   "execution_count": 16,
   "metadata": {
    "collapsed": false
   },
   "outputs": [
    {
     "data": {
      "text/html": [
       "<div>\n",
       "<table border=\"1\" class=\"dataframe\">\n",
       "  <thead>\n",
       "    <tr style=\"text-align: right;\">\n",
       "      <th></th>\n",
       "      <th>id</th>\n",
       "      <th>last_name</th>\n",
       "      <th>first_name</th>\n",
       "      <th>middle_name</th>\n",
       "      <th>street_1</th>\n",
       "      <th>street_2</th>\n",
       "      <th>city</th>\n",
       "      <th>state</th>\n",
       "      <th>zip</th>\n",
       "      <th>amount</th>\n",
       "      <th>date</th>\n",
       "      <th>candidate_id</th>\n",
       "    </tr>\n",
       "  </thead>\n",
       "  <tbody>\n",
       "    <tr>\n",
       "      <th>27</th>\n",
       "      <td>NaN</td>\n",
       "      <td>Buckheit</td>\n",
       "      <td>Bruce</td>\n",
       "      <td>NaN</td>\n",
       "      <td>8904 KAREN DR</td>\n",
       "      <td>NaN</td>\n",
       "      <td>FAIRFAX</td>\n",
       "      <td>VA</td>\n",
       "      <td>220312731</td>\n",
       "      <td>100.00</td>\n",
       "      <td>2007-09-19</td>\n",
       "      <td>20</td>\n",
       "    </tr>\n",
       "    <tr>\n",
       "      <th>77</th>\n",
       "      <td>NaN</td>\n",
       "      <td>Ranganath</td>\n",
       "      <td>Anoop</td>\n",
       "      <td>NaN</td>\n",
       "      <td>2507 Willard Drive</td>\n",
       "      <td>NaN</td>\n",
       "      <td>Charlottesville</td>\n",
       "      <td>VA</td>\n",
       "      <td>22903</td>\n",
       "      <td>-100.00</td>\n",
       "      <td>2008-04-21</td>\n",
       "      <td>32</td>\n",
       "    </tr>\n",
       "    <tr>\n",
       "      <th>88</th>\n",
       "      <td>NaN</td>\n",
       "      <td>Perreault</td>\n",
       "      <td>Louise</td>\n",
       "      <td>NaN</td>\n",
       "      <td>503 Brockridge Hunt Drive</td>\n",
       "      <td>NaN</td>\n",
       "      <td>Hampton</td>\n",
       "      <td>VA</td>\n",
       "      <td>23666</td>\n",
       "      <td>-34.08</td>\n",
       "      <td>2008-04-21</td>\n",
       "      <td>32</td>\n",
       "    </tr>\n",
       "    <tr>\n",
       "      <th>145</th>\n",
       "      <td>NaN</td>\n",
       "      <td>ABDELLA</td>\n",
       "      <td>THOMAS</td>\n",
       "      <td>M.</td>\n",
       "      <td>4231 MONUMENT WALL WAY #340</td>\n",
       "      <td>NaN</td>\n",
       "      <td>FAIRFAX</td>\n",
       "      <td>VA</td>\n",
       "      <td>220308440</td>\n",
       "      <td>50.00</td>\n",
       "      <td>2007-09-30</td>\n",
       "      <td>35</td>\n",
       "    </tr>\n",
       "  </tbody>\n",
       "</table>\n",
       "</div>"
      ],
      "text/plain": [
       "     id  last_name first_name middle_name                     street_1 street_2             city state        zip  amount        date  candidate_id\n",
       "27  NaN   Buckheit      Bruce         NaN                8904 KAREN DR      NaN          FAIRFAX    VA  220312731  100.00  2007-09-19            20\n",
       "77  NaN  Ranganath      Anoop         NaN           2507 Willard Drive      NaN  Charlottesville    VA      22903 -100.00  2008-04-21            32\n",
       "88  NaN  Perreault     Louise         NaN    503 Brockridge Hunt Drive      NaN          Hampton    VA      23666  -34.08  2008-04-21            32\n",
       "145 NaN    ABDELLA     THOMAS          M.  4231 MONUMENT WALL WAY #340      NaN          FAIRFAX    VA  220308440   50.00  2007-09-30            35"
      ]
     },
     "execution_count": 16,
     "metadata": {},
     "output_type": "execute_result"
    }
   ],
   "source": [
    "dfcwci[(dfcwci.state=='VA') & (dfcwci.amount < 400)]"
   ]
  },
  {
   "cell_type": "code",
   "execution_count": 17,
   "metadata": {
    "collapsed": false
   },
   "outputs": [
    {
     "ename": "NameError",
     "evalue": "name 'make_query' is not defined",
     "output_type": "error",
     "traceback": [
      "\u001b[1;31m---------------------------------------------------------------------------\u001b[0m",
      "\u001b[1;31mNameError\u001b[0m                                 Traceback (most recent call last)",
      "\u001b[1;32m<ipython-input-17-0805dfc92ba5>\u001b[0m in \u001b[0;36m<module>\u001b[1;34m()\u001b[0m\n\u001b[1;32m----> 1\u001b[1;33m \u001b[0mcont_cols\u001b[0m \u001b[1;33m=\u001b[0m \u001b[1;33m[\u001b[0m\u001b[0me\u001b[0m\u001b[1;33m[\u001b[0m\u001b[1;36m1\u001b[0m\u001b[1;33m]\u001b[0m \u001b[1;32mfor\u001b[0m \u001b[0me\u001b[0m \u001b[1;32min\u001b[0m \u001b[0mmake_query\u001b[0m\u001b[1;33m(\u001b[0m\u001b[1;34m\"PRAGMA table_info(contributors);\"\u001b[0m\u001b[1;33m)\u001b[0m\u001b[1;33m]\u001b[0m\u001b[1;33m\u001b[0m\u001b[0m\n\u001b[0m\u001b[0;32m      2\u001b[0m \u001b[0mcont_cols\u001b[0m\u001b[1;33m\u001b[0m\u001b[0m\n",
      "\u001b[1;31mNameError\u001b[0m: name 'make_query' is not defined"
     ]
    }
   ],
   "source": [
    "cont_cols = [e[1] for e in make_query(\"PRAGMA table_info(contributors);\")]\n",
    "cont_cols"
   ]
  },
  {
   "cell_type": "code",
   "execution_count": 30,
   "metadata": {
    "collapsed": true
   },
   "outputs": [],
   "source": [
    "def make_frame(list_of_tuples, legend=cont_cols):\n",
    "    framelist=[]\n",
    "    for i, cname in enumerate(legend):\n",
    "        framelist.append((cname,[e[i] for e in list_of_tuples]))\n",
    "    return pd.DataFrame.from_items(framelist)"
   ]
  },
  {
   "cell_type": "code",
   "execution_count": 32,
   "metadata": {
    "collapsed": false
   },
   "outputs": [
    {
     "name": "stdout",
     "output_type": "stream",
     "text": [
      "[(28, 'Buckheit', 'Bruce', None, '8904 KAREN DR', None, 'FAIRFAX', 'VA', '220312731', 100, '2007-09-19', 20), (78, 'Ranganath', 'Anoop', None, '2507 Willard Drive', None, 'Charlottesville', 'VA', '22903', -100, '2008-04-21', 32), (89, 'Perreault', 'Louise', None, '503 Brockridge Hunt Drive', None, 'Hampton', 'VA', '23666', -34.08, '2008-04-21', 32), (146, 'ABDELLA', 'THOMAS', 'M.', '4231 MONUMENT WALL WAY #340', None, 'FAIRFAX', 'VA', '220308440', 50, '2007-09-30', 35), (203, 'Buckheit', 'Bruce', None, '8904 KAREN DR', None, 'FAIRFAX', 'VA', '220312731', 100, '2007-09-19', 20), (253, 'Ranganath', 'Anoop', None, '2507 Willard Drive', None, 'Charlottesville', 'VA', '22903', -100, '2008-04-21', 32), (264, 'Perreault', 'Louise', None, '503 Brockridge Hunt Drive', None, 'Hampton', 'VA', '23666', -34.08, '2008-04-21', 32), (321, 'ABDELLA', 'THOMAS', 'M.', '4231 MONUMENT WALL WAY #340', None, 'FAIRFAX', 'VA', '220308440', 50, '2007-09-30', 35)]\n"
     ]
    },
    {
     "data": {
      "text/html": [
       "<div>\n",
       "<table border=\"1\" class=\"dataframe\">\n",
       "  <thead>\n",
       "    <tr style=\"text-align: right;\">\n",
       "      <th></th>\n",
       "      <th>id</th>\n",
       "      <th>last_name</th>\n",
       "      <th>first_name</th>\n",
       "      <th>middle_name</th>\n",
       "      <th>street_1</th>\n",
       "      <th>street_2</th>\n",
       "      <th>city</th>\n",
       "      <th>state</th>\n",
       "      <th>zip</th>\n",
       "      <th>amount</th>\n",
       "      <th>date</th>\n",
       "      <th>candidate_id</th>\n",
       "    </tr>\n",
       "  </thead>\n",
       "  <tbody>\n",
       "    <tr>\n",
       "      <th>0</th>\n",
       "      <td>28</td>\n",
       "      <td>Buckheit</td>\n",
       "      <td>Bruce</td>\n",
       "      <td>None</td>\n",
       "      <td>8904 KAREN DR</td>\n",
       "      <td>None</td>\n",
       "      <td>FAIRFAX</td>\n",
       "      <td>VA</td>\n",
       "      <td>220312731</td>\n",
       "      <td>100.00</td>\n",
       "      <td>2007-09-19</td>\n",
       "      <td>20</td>\n",
       "    </tr>\n",
       "    <tr>\n",
       "      <th>1</th>\n",
       "      <td>78</td>\n",
       "      <td>Ranganath</td>\n",
       "      <td>Anoop</td>\n",
       "      <td>None</td>\n",
       "      <td>2507 Willard Drive</td>\n",
       "      <td>None</td>\n",
       "      <td>Charlottesville</td>\n",
       "      <td>VA</td>\n",
       "      <td>22903</td>\n",
       "      <td>-100.00</td>\n",
       "      <td>2008-04-21</td>\n",
       "      <td>32</td>\n",
       "    </tr>\n",
       "    <tr>\n",
       "      <th>2</th>\n",
       "      <td>89</td>\n",
       "      <td>Perreault</td>\n",
       "      <td>Louise</td>\n",
       "      <td>None</td>\n",
       "      <td>503 Brockridge Hunt Drive</td>\n",
       "      <td>None</td>\n",
       "      <td>Hampton</td>\n",
       "      <td>VA</td>\n",
       "      <td>23666</td>\n",
       "      <td>-34.08</td>\n",
       "      <td>2008-04-21</td>\n",
       "      <td>32</td>\n",
       "    </tr>\n",
       "    <tr>\n",
       "      <th>3</th>\n",
       "      <td>146</td>\n",
       "      <td>ABDELLA</td>\n",
       "      <td>THOMAS</td>\n",
       "      <td>M.</td>\n",
       "      <td>4231 MONUMENT WALL WAY #340</td>\n",
       "      <td>None</td>\n",
       "      <td>FAIRFAX</td>\n",
       "      <td>VA</td>\n",
       "      <td>220308440</td>\n",
       "      <td>50.00</td>\n",
       "      <td>2007-09-30</td>\n",
       "      <td>35</td>\n",
       "    </tr>\n",
       "    <tr>\n",
       "      <th>4</th>\n",
       "      <td>203</td>\n",
       "      <td>Buckheit</td>\n",
       "      <td>Bruce</td>\n",
       "      <td>None</td>\n",
       "      <td>8904 KAREN DR</td>\n",
       "      <td>None</td>\n",
       "      <td>FAIRFAX</td>\n",
       "      <td>VA</td>\n",
       "      <td>220312731</td>\n",
       "      <td>100.00</td>\n",
       "      <td>2007-09-19</td>\n",
       "      <td>20</td>\n",
       "    </tr>\n",
       "    <tr>\n",
       "      <th>5</th>\n",
       "      <td>253</td>\n",
       "      <td>Ranganath</td>\n",
       "      <td>Anoop</td>\n",
       "      <td>None</td>\n",
       "      <td>2507 Willard Drive</td>\n",
       "      <td>None</td>\n",
       "      <td>Charlottesville</td>\n",
       "      <td>VA</td>\n",
       "      <td>22903</td>\n",
       "      <td>-100.00</td>\n",
       "      <td>2008-04-21</td>\n",
       "      <td>32</td>\n",
       "    </tr>\n",
       "    <tr>\n",
       "      <th>6</th>\n",
       "      <td>264</td>\n",
       "      <td>Perreault</td>\n",
       "      <td>Louise</td>\n",
       "      <td>None</td>\n",
       "      <td>503 Brockridge Hunt Drive</td>\n",
       "      <td>None</td>\n",
       "      <td>Hampton</td>\n",
       "      <td>VA</td>\n",
       "      <td>23666</td>\n",
       "      <td>-34.08</td>\n",
       "      <td>2008-04-21</td>\n",
       "      <td>32</td>\n",
       "    </tr>\n",
       "    <tr>\n",
       "      <th>7</th>\n",
       "      <td>321</td>\n",
       "      <td>ABDELLA</td>\n",
       "      <td>THOMAS</td>\n",
       "      <td>M.</td>\n",
       "      <td>4231 MONUMENT WALL WAY #340</td>\n",
       "      <td>None</td>\n",
       "      <td>FAIRFAX</td>\n",
       "      <td>VA</td>\n",
       "      <td>220308440</td>\n",
       "      <td>50.00</td>\n",
       "      <td>2007-09-30</td>\n",
       "      <td>35</td>\n",
       "    </tr>\n",
       "  </tbody>\n",
       "</table>\n",
       "</div>"
      ],
      "text/plain": [
       "    id  last_name first_name middle_name                     street_1 street_2             city state        zip  amount        date  candidate_id\n",
       "0   28   Buckheit      Bruce        None                8904 KAREN DR     None          FAIRFAX    VA  220312731  100.00  2007-09-19            20\n",
       "1   78  Ranganath      Anoop        None           2507 Willard Drive     None  Charlottesville    VA      22903 -100.00  2008-04-21            32\n",
       "2   89  Perreault     Louise        None    503 Brockridge Hunt Drive     None          Hampton    VA      23666  -34.08  2008-04-21            32\n",
       "3  146    ABDELLA     THOMAS          M.  4231 MONUMENT WALL WAY #340     None          FAIRFAX    VA  220308440   50.00  2007-09-30            35\n",
       "4  203   Buckheit      Bruce        None                8904 KAREN DR     None          FAIRFAX    VA  220312731  100.00  2007-09-19            20\n",
       "5  253  Ranganath      Anoop        None           2507 Willard Drive     None  Charlottesville    VA      22903 -100.00  2008-04-21            32\n",
       "6  264  Perreault     Louise        None    503 Brockridge Hunt Drive     None          Hampton    VA      23666  -34.08  2008-04-21            32\n",
       "7  321    ABDELLA     THOMAS          M.  4231 MONUMENT WALL WAY #340     None          FAIRFAX    VA  220308440   50.00  2007-09-30            35"
      ]
     },
     "execution_count": 32,
     "metadata": {},
     "output_type": "execute_result"
    }
   ],
   "source": [
    "out=make_query(\"SELECT * FROM contributors WHERE state='VA' AND amount < 400;\")\n",
    "print(out)\n",
    "make_frame(out)"
   ]
  },
  {
   "cell_type": "code",
   "execution_count": 33,
   "metadata": {
    "collapsed": false
   },
   "outputs": [
    {
     "data": {
      "text/html": [
       "<div>\n",
       "<table border=\"1\" class=\"dataframe\">\n",
       "  <thead>\n",
       "    <tr style=\"text-align: right;\">\n",
       "      <th></th>\n",
       "      <th>id</th>\n",
       "      <th>last_name</th>\n",
       "      <th>first_name</th>\n",
       "      <th>middle_name</th>\n",
       "      <th>street_1</th>\n",
       "      <th>street_2</th>\n",
       "      <th>city</th>\n",
       "      <th>state</th>\n",
       "      <th>zip</th>\n",
       "      <th>amount</th>\n",
       "      <th>date</th>\n",
       "      <th>candidate_id</th>\n",
       "    </tr>\n",
       "  </thead>\n",
       "  <tbody>\n",
       "    <tr>\n",
       "      <th>0</th>\n",
       "      <td>126</td>\n",
       "      <td>BOURNE</td>\n",
       "      <td>TRAVIS</td>\n",
       "      <td>None</td>\n",
       "      <td>LAGE KAART 77</td>\n",
       "      <td>None</td>\n",
       "      <td>BRASSCHATT</td>\n",
       "      <td>None</td>\n",
       "      <td>2930</td>\n",
       "      <td>-500</td>\n",
       "      <td>2008-11-20</td>\n",
       "      <td>35</td>\n",
       "    </tr>\n",
       "    <tr>\n",
       "      <th>1</th>\n",
       "      <td>301</td>\n",
       "      <td>BOURNE</td>\n",
       "      <td>TRAVIS</td>\n",
       "      <td>None</td>\n",
       "      <td>LAGE KAART 77</td>\n",
       "      <td>None</td>\n",
       "      <td>BRASSCHATT</td>\n",
       "      <td>None</td>\n",
       "      <td>2930</td>\n",
       "      <td>-500</td>\n",
       "      <td>2008-11-20</td>\n",
       "      <td>35</td>\n",
       "    </tr>\n",
       "  </tbody>\n",
       "</table>\n",
       "</div>"
      ],
      "text/plain": [
       "    id last_name first_name middle_name       street_1 street_2        city state   zip  amount        date  candidate_id\n",
       "0  126    BOURNE     TRAVIS        None  LAGE KAART 77     None  BRASSCHATT  None  2930    -500  2008-11-20            35\n",
       "1  301    BOURNE     TRAVIS        None  LAGE KAART 77     None  BRASSCHATT  None  2930    -500  2008-11-20            35"
      ]
     },
     "execution_count": 33,
     "metadata": {},
     "output_type": "execute_result"
    }
   ],
   "source": [
    "out=make_query(\"SELECT * FROM contributors WHERE state IS NULL;\")\n",
    "make_frame(out)"
   ]
  },
  {
   "cell_type": "code",
   "execution_count": 34,
   "metadata": {
    "collapsed": false
   },
   "outputs": [
    {
     "data": {
      "text/html": [
       "<div>\n",
       "<table border=\"1\" class=\"dataframe\">\n",
       "  <thead>\n",
       "    <tr style=\"text-align: right;\">\n",
       "      <th></th>\n",
       "      <th>last_name</th>\n",
       "      <th>first_name</th>\n",
       "      <th>middle_name</th>\n",
       "      <th>street_1</th>\n",
       "      <th>street_2</th>\n",
       "      <th>city</th>\n",
       "      <th>state</th>\n",
       "      <th>zip</th>\n",
       "      <th>amount</th>\n",
       "      <th>date</th>\n",
       "      <th>candidate_id</th>\n",
       "    </tr>\n",
       "  </thead>\n",
       "  <tbody>\n",
       "    <tr>\n",
       "      <th>125</th>\n",
       "      <td>BOURNE</td>\n",
       "      <td>TRAVIS</td>\n",
       "      <td>NaN</td>\n",
       "      <td>LAGE KAART 77</td>\n",
       "      <td>NaN</td>\n",
       "      <td>BRASSCHATT</td>\n",
       "      <td>NaN</td>\n",
       "      <td>2930</td>\n",
       "      <td>-500.0</td>\n",
       "      <td>2008-11-20</td>\n",
       "      <td>35</td>\n",
       "    </tr>\n",
       "  </tbody>\n",
       "</table>\n",
       "</div>"
      ],
      "text/plain": [
       "    last_name first_name middle_name       street_1 street_2        city state   zip  amount        date  candidate_id\n",
       "125    BOURNE     TRAVIS         NaN  LAGE KAART 77      NaN  BRASSCHATT   NaN  2930  -500.0  2008-11-20            35"
      ]
     },
     "execution_count": 34,
     "metadata": {},
     "output_type": "execute_result"
    }
   ],
   "source": [
    "dfcwci[dfcwci.state.isnull()]"
   ]
  },
  {
   "cell_type": "code",
   "execution_count": 35,
   "metadata": {
    "collapsed": false
   },
   "outputs": [
    {
     "data": {
      "text/plain": [
       "(348, 12)"
      ]
     },
     "execution_count": 35,
     "metadata": {},
     "output_type": "execute_result"
    }
   ],
   "source": [
    "out=make_query(\"SELECT * FROM contributors WHERE state IS NOT NULL;\")\n",
    "make_frame(out).shape"
   ]
  },
  {
   "cell_type": "code",
   "execution_count": 36,
   "metadata": {
    "collapsed": false
   },
   "outputs": [
    {
     "data": {
      "text/plain": [
       "(174, 11)"
      ]
     },
     "execution_count": 36,
     "metadata": {},
     "output_type": "execute_result"
    }
   ],
   "source": [
    "dfcwci[dfcwci.state.notnull()].shape"
   ]
  },
  {
   "cell_type": "code",
   "execution_count": null,
   "metadata": {
    "collapsed": false
   },
   "outputs": [],
   "source": [
    "out=make_query(\"SELECT * FROM contributors WHERE state IN ('VA','WA');\")\n",
    "make_frame(out).head(10)"
   ]
  },
  {
   "cell_type": "code",
   "execution_count": null,
   "metadata": {
    "collapsed": false
   },
   "outputs": [],
   "source": [
    "dfcwci[dfcwci.state.isin(['VA','WA'])].head(10)"
   ]
  },
  {
   "cell_type": "code",
   "execution_count": null,
   "metadata": {
    "collapsed": false
   },
   "outputs": [],
   "source": [
    "out=make_query(\"SELECT * FROM contributors WHERE amount BETWEEN 10 AND 50;\")\n",
    "make_frame(out).head(10)"
   ]
  },
  {
   "cell_type": "code",
   "execution_count": null,
   "metadata": {
    "collapsed": false
   },
   "outputs": [],
   "source": [
    "dfcwci.query(\"10 <= amount <= 50\").head(10)"
   ]
  },
  {
   "cell_type": "markdown",
   "metadata": {},
   "source": [
    "###SORT"
   ]
  },
  {
   "cell_type": "code",
   "execution_count": null,
   "metadata": {
    "collapsed": false
   },
   "outputs": [],
   "source": [
    "dfcwci.sort(\"amount\").head(10)"
   ]
  },
  {
   "cell_type": "code",
   "execution_count": null,
   "metadata": {
    "collapsed": false
   },
   "outputs": [],
   "source": [
    "dfcwci.sort(\"amount\", ascending=False).head(10)"
   ]
  },
  {
   "cell_type": "code",
   "execution_count": null,
   "metadata": {
    "collapsed": false
   },
   "outputs": [],
   "source": [
    "out=make_query(\"SELECT * FROM contributors ORDER BY amount;\")\n",
    "make_frame(out).head(10)"
   ]
  },
  {
   "cell_type": "code",
   "execution_count": null,
   "metadata": {
    "collapsed": false
   },
   "outputs": [],
   "source": [
    "out=make_query(\"SELECT * FROM contributors ORDER BY amount DESC;\")\n",
    "make_frame(out).head(10)"
   ]
  },
  {
   "cell_type": "markdown",
   "metadata": {},
   "source": [
    "###SELECT-COLUMNS"
   ]
  },
  {
   "cell_type": "code",
   "execution_count": null,
   "metadata": {
    "collapsed": false
   },
   "outputs": [],
   "source": [
    "dfcwci[['first_name', 'amount']].head(10)"
   ]
  },
  {
   "cell_type": "code",
   "execution_count": null,
   "metadata": {
    "collapsed": false
   },
   "outputs": [],
   "source": [
    "out=make_query(\"SELECT first_name, amount FROM contributors;\")\n",
    "make_frame(out,['first_name', 'amount']).head(10)"
   ]
  },
  {
   "cell_type": "markdown",
   "metadata": {},
   "source": [
    "###SELECT-DISTINCT"
   ]
  },
  {
   "cell_type": "code",
   "execution_count": null,
   "metadata": {
    "collapsed": false
   },
   "outputs": [],
   "source": [
    "dfcwci[['last_name','first_name']].count()"
   ]
  },
  {
   "cell_type": "code",
   "execution_count": null,
   "metadata": {
    "collapsed": false
   },
   "outputs": [],
   "source": [
    "dfcwci[['last_name','first_name']].drop_duplicates().count()"
   ]
  },
  {
   "cell_type": "code",
   "execution_count": null,
   "metadata": {
    "collapsed": false
   },
   "outputs": [],
   "source": [
    "dfcwci[['last_name','first_name']].drop_duplicates().head(10)"
   ]
  },
  {
   "cell_type": "code",
   "execution_count": null,
   "metadata": {
    "collapsed": false
   },
   "outputs": [],
   "source": [
    "out=make_query(\"SELECT DISTINCT last_name, first_name FROM contributors;\")\n",
    "make_frame(out,['last_name', 'first_name']).head(10)"
   ]
  },
  {
   "cell_type": "markdown",
   "metadata": {},
   "source": [
    "###ASSIGN"
   ]
  },
  {
   "cell_type": "code",
   "execution_count": null,
   "metadata": {
    "collapsed": false
   },
   "outputs": [],
   "source": [
    "dfcwci['name']=dfcwci['last_name']+\", \"+dfcwci['first_name']\n",
    "dfcwci.head(10)"
   ]
  },
  {
   "cell_type": "code",
   "execution_count": null,
   "metadata": {
    "collapsed": false
   },
   "outputs": [],
   "source": [
    "dfcwci.assign(ucname=dfcwci.last_name+\":\"+dfcwci.first_name).head(10)"
   ]
  },
  {
   "cell_type": "markdown",
   "metadata": {},
   "source": [
    "Will the above command actually change `dfcwci`?\n",
    "\n",
    "####What if we wanted to change an existing assignment?"
   ]
  },
  {
   "cell_type": "code",
   "execution_count": null,
   "metadata": {
    "collapsed": false
   },
   "outputs": [],
   "source": [
    "dfcwci[dfcwci.state=='VA']"
   ]
  },
  {
   "cell_type": "code",
   "execution_count": null,
   "metadata": {
    "collapsed": false
   },
   "outputs": [],
   "source": [
    "dfcwci.loc[dfcwci.state=='VA', 'name']"
   ]
  },
  {
   "cell_type": "code",
   "execution_count": null,
   "metadata": {
    "collapsed": false
   },
   "outputs": [],
   "source": [
    "dfcwci.loc[dfcwci.state=='VA', 'name']=\"junk\""
   ]
  },
  {
   "cell_type": "code",
   "execution_count": null,
   "metadata": {
    "collapsed": false
   },
   "outputs": [],
   "source": [
    "dfcwci.query(\"state=='VA'\")"
   ]
  },
  {
   "cell_type": "markdown",
   "metadata": {},
   "source": [
    "---\n",
    "\n",
    "Let us see the entire process in SQL"
   ]
  },
  {
   "cell_type": "code",
   "execution_count": null,
   "metadata": {
    "collapsed": false
   },
   "outputs": [],
   "source": [
    "alt=\"ALTER TABLE contributors ADD COLUMN name;\"\n",
    "db.cursor().execute(alt)"
   ]
  },
  {
   "cell_type": "code",
   "execution_count": null,
   "metadata": {
    "collapsed": false
   },
   "outputs": [],
   "source": [
    "make_query(\"PRAGMA table_info(contributors);\")"
   ]
  },
  {
   "cell_type": "code",
   "execution_count": null,
   "metadata": {
    "collapsed": false
   },
   "outputs": [],
   "source": [
    "out = make_query(\"SELECT id, last_name,first_name from contributors;\")\n",
    "out2 = [(e[1]+\", \"+e[2],e[0]) for e in out]\n",
    "out2"
   ]
  },
  {
   "cell_type": "code",
   "execution_count": null,
   "metadata": {
    "collapsed": false
   },
   "outputs": [],
   "source": [
    "alt2=\"UPDATE contributors SET name = ? WHERE id = ?;\"\n",
    "for ele in out2:\n",
    "    db.cursor().execute(alt2, ele)"
   ]
  },
  {
   "cell_type": "code",
   "execution_count": null,
   "metadata": {
    "collapsed": true
   },
   "outputs": [],
   "source": [
    "db.commit()"
   ]
  },
  {
   "cell_type": "code",
   "execution_count": null,
   "metadata": {
    "collapsed": false
   },
   "outputs": [],
   "source": [
    "out=make_query(\"SELECT * from contributors;\")\n",
    "make_frame(out,cont_cols+[\"name\"]).head(10)"
   ]
  },
  {
   "cell_type": "markdown",
   "metadata": {},
   "source": [
    "And lets now do an assignment to an existing column"
   ]
  },
  {
   "cell_type": "code",
   "execution_count": null,
   "metadata": {
    "collapsed": false
   },
   "outputs": [],
   "source": [
    "upd=\"UPDATE contributors SET name = 'junk' WHERE state = 'VA';\"\n",
    "db.cursor().execute(upd)\n",
    "db.commit()"
   ]
  },
  {
   "cell_type": "code",
   "execution_count": null,
   "metadata": {
    "collapsed": false
   },
   "outputs": [],
   "source": [
    "out=make_query(\"SELECT * from contributors where state='VA';\")\n",
    "make_frame(out,cont_cols+[\"name\"]).head(10)"
   ]
  },
  {
   "cell_type": "markdown",
   "metadata": {},
   "source": [
    "####No DROP COLUMN in SQLITE\n",
    "\n",
    "Its available in other databases. Here you must just re-create your database, or no about this gotcha from the start."
   ]
  },
  {
   "cell_type": "code",
   "execution_count": null,
   "metadata": {
    "collapsed": false
   },
   "outputs": [],
   "source": [
    "alt=\"ALTER TABLE contributors DROP COLUMN name;\"\n",
    "db.cursor().execute(alt)\n",
    "db.commit()"
   ]
  },
  {
   "cell_type": "markdown",
   "metadata": {},
   "source": [
    "Its much simpler in Pandas, of-course"
   ]
  },
  {
   "cell_type": "code",
   "execution_count": null,
   "metadata": {
    "collapsed": false
   },
   "outputs": [],
   "source": [
    "del dfcwci['name']"
   ]
  },
  {
   "cell_type": "markdown",
   "metadata": {},
   "source": [
    "###AGGREGATE"
   ]
  },
  {
   "cell_type": "code",
   "execution_count": null,
   "metadata": {
    "collapsed": false
   },
   "outputs": [],
   "source": [
    "dfcwci.describe()"
   ]
  },
  {
   "cell_type": "code",
   "execution_count": null,
   "metadata": {
    "collapsed": false
   },
   "outputs": [],
   "source": [
    "dfcwci.amount.max()"
   ]
  },
  {
   "cell_type": "code",
   "execution_count": null,
   "metadata": {
    "collapsed": false
   },
   "outputs": [],
   "source": [
    "dfcwci[dfcwci.amount==dfcwci.amount.max()]"
   ]
  },
  {
   "cell_type": "code",
   "execution_count": null,
   "metadata": {
    "collapsed": false
   },
   "outputs": [],
   "source": [
    "out=make_query(\"SELECT *, MAX(amount) AS maxamt FROM contributors;\")\n",
    "print out\n",
    "make_frame(out, cont_cols+['maxamt'])"
   ]
  },
  {
   "cell_type": "code",
   "execution_count": null,
   "metadata": {
    "collapsed": false
   },
   "outputs": [],
   "source": [
    "out=make_query(\"SELECT COUNT(amount) AS AMOUNTCOUNT FROM contributors;\")\n",
    "print out"
   ]
  },
  {
   "cell_type": "code",
   "execution_count": null,
   "metadata": {
    "collapsed": false
   },
   "outputs": [],
   "source": [
    "out=make_query(\"SELECT AVG(amount) FROM contributors;\")\n",
    "print out"
   ]
  },
  {
   "cell_type": "code",
   "execution_count": null,
   "metadata": {
    "collapsed": false
   },
   "outputs": [],
   "source": [
    "dfcwci[dfcwci.amount > dfcwci.amount.max() - 2300]"
   ]
  },
  {
   "cell_type": "code",
   "execution_count": null,
   "metadata": {
    "collapsed": false
   },
   "outputs": [],
   "source": [
    "out=make_query(\"SELECT * FROM contributors WHERE amount > (select (MAX(amount) - 2300) FROM contributors);\")\n",
    "make_frame(out)"
   ]
  },
  {
   "cell_type": "markdown",
   "metadata": {},
   "source": [
    "Aso `MIN`, `SUM`, `AVG`."
   ]
  },
  {
   "cell_type": "markdown",
   "metadata": {},
   "source": [
    "###GROUP-AGG"
   ]
  },
  {
   "cell_type": "code",
   "execution_count": null,
   "metadata": {
    "collapsed": false
   },
   "outputs": [],
   "source": [
    "dfcwci.groupby(\"state\").sum()"
   ]
  },
  {
   "cell_type": "code",
   "execution_count": null,
   "metadata": {
    "collapsed": false
   },
   "outputs": [],
   "source": [
    "dfcwci.groupby(\"state\")['amount'].mean()"
   ]
  },
  {
   "cell_type": "code",
   "execution_count": null,
   "metadata": {
    "collapsed": false
   },
   "outputs": [],
   "source": [
    "dfcwci.state.unique()"
   ]
  },
  {
   "cell_type": "code",
   "execution_count": null,
   "metadata": {
    "collapsed": false
   },
   "outputs": [],
   "source": [
    "out=make_query(\"SELECT state,SUM(amount) FROM contributors GROUP BY state;\")\n",
    "make_frame(out, legend=['state','sum'])"
   ]
  },
  {
   "cell_type": "markdown",
   "metadata": {},
   "source": [
    "###DELETE"
   ]
  },
  {
   "cell_type": "code",
   "execution_count": null,
   "metadata": {
    "collapsed": false
   },
   "outputs": [],
   "source": [
    "dfcwci.head()"
   ]
  },
  {
   "cell_type": "markdown",
   "metadata": {},
   "source": [
    "In-place drops"
   ]
  },
  {
   "cell_type": "code",
   "execution_count": null,
   "metadata": {
    "collapsed": false
   },
   "outputs": [],
   "source": [
    "df2=dfcwci.copy()\n",
    "df2.set_index('last_name', inplace=True)\n",
    "df2.head()"
   ]
  },
  {
   "cell_type": "code",
   "execution_count": null,
   "metadata": {
    "collapsed": false
   },
   "outputs": [],
   "source": [
    "df2.drop(['Ahrens'], inplace=True)\n",
    "df2.head()"
   ]
  },
  {
   "cell_type": "code",
   "execution_count": null,
   "metadata": {
    "collapsed": false,
    "scrolled": true
   },
   "outputs": [],
   "source": [
    "df2.reset_index(inplace=True)\n",
    "df2.head()"
   ]
  },
  {
   "cell_type": "markdown",
   "metadata": {},
   "source": [
    "The recommended way to do it is to create a new dataframe. This might be impractical is things are very large."
   ]
  },
  {
   "cell_type": "code",
   "execution_count": null,
   "metadata": {
    "collapsed": false
   },
   "outputs": [],
   "source": [
    "dfcwci=dfcwci[dfcwci.last_name!='Ahrens']\n",
    "dfcwci.head(10)"
   ]
  },
  {
   "cell_type": "code",
   "execution_count": null,
   "metadata": {
    "collapsed": false
   },
   "outputs": [],
   "source": [
    "drow=\"DELETE FROM contributors WHERE last_name=\\\"Ahrens\\\";\"\n",
    "db.cursor().execute(drow)"
   ]
  },
  {
   "cell_type": "code",
   "execution_count": null,
   "metadata": {
    "collapsed": false
   },
   "outputs": [],
   "source": [
    "db.commit()\n",
    "out=make_query(\"SELECT * FROM contributors;\")\n",
    "make_frame(out).head(10)"
   ]
  },
  {
   "cell_type": "markdown",
   "metadata": {},
   "source": [
    "###LIMIT"
   ]
  },
  {
   "cell_type": "code",
   "execution_count": null,
   "metadata": {
    "collapsed": false
   },
   "outputs": [],
   "source": [
    "out=make_query(\"SELECT * FROM contributors LIMIT 3;\")\n",
    "make_frame(out).head(10)"
   ]
  },
  {
   "cell_type": "code",
   "execution_count": null,
   "metadata": {
    "collapsed": false
   },
   "outputs": [],
   "source": [
    "dfcwci[0:3]"
   ]
  },
  {
   "cell_type": "markdown",
   "metadata": {},
   "source": [
    "##Indexes"
   ]
  },
  {
   "cell_type": "code",
   "execution_count": null,
   "metadata": {
    "collapsed": true
   },
   "outputs": [],
   "source": [
    "crind=\"CREATE INDEX amount_ix ON contributors(amount);\"\n",
    "db.cursor().execute(crind)\n",
    "db.commit()"
   ]
  },
  {
   "cell_type": "code",
   "execution_count": null,
   "metadata": {
    "collapsed": false
   },
   "outputs": [],
   "source": [
    "%%bash\n",
    "echo \".schema\" | sqlite3 cancont.db"
   ]
  },
  {
   "cell_type": "code",
   "execution_count": null,
   "metadata": {
    "collapsed": false
   },
   "outputs": [],
   "source": [
    "crind=\"DROP INDEX amount_ix;\"\n",
    "db.cursor().execute(crind)\n",
    "db.commit()"
   ]
  },
  {
   "cell_type": "code",
   "execution_count": null,
   "metadata": {
    "collapsed": false
   },
   "outputs": [],
   "source": [
    "%%bash\n",
    "echo \".schema\" | sqlite3 cancont.db"
   ]
  },
  {
   "cell_type": "markdown",
   "metadata": {},
   "source": [
    "##Relationships: JOINs are Cartesian Products."
   ]
  },
  {
   "cell_type": "markdown",
   "metadata": {},
   "source": [
    "###Simple subselect"
   ]
  },
  {
   "cell_type": "code",
   "execution_count": null,
   "metadata": {
    "collapsed": false
   },
   "outputs": [],
   "source": [
    "dfcand.head()"
   ]
  },
  {
   "cell_type": "code",
   "execution_count": null,
   "metadata": {
    "collapsed": false
   },
   "outputs": [],
   "source": [
    "obamaid=dfcand.query(\"last_name=='Obama'\")['id'].values[0]"
   ]
  },
  {
   "cell_type": "code",
   "execution_count": null,
   "metadata": {
    "collapsed": false
   },
   "outputs": [],
   "source": [
    "obamacontrib=dfcwci.query(\"candidate_id==%i\" % obamaid)\n",
    "obamacontrib.head()"
   ]
  },
  {
   "cell_type": "code",
   "execution_count": null,
   "metadata": {
    "collapsed": false
   },
   "outputs": [],
   "source": [
    "russiandollsel=\"\"\"\n",
    "SELECT * FROM contributors WHERE \n",
    "    candidate_id = (SELECT id from candidates WHERE last_name = 'Obama');\n",
    "\"\"\"\n",
    "out=make_query(russiandollsel)\n",
    "make_frame(out).head()"
   ]
  },
  {
   "cell_type": "markdown",
   "metadata": {},
   "source": [
    "###implicit join"
   ]
  },
  {
   "cell_type": "code",
   "execution_count": null,
   "metadata": {
    "collapsed": false
   },
   "outputs": [],
   "source": [
    "implicitjoinsel=\"\"\"\n",
    "SELECT \n",
    "    contributors.last_name, contributors.first_name, contributors.amount, candidates.last_name \n",
    "FROM \n",
    "    contributors, candidates \n",
    "WHERE contributors.candidate_id = candidates.id\n",
    "AND candidates.last_name = 'Obama';\n",
    "\"\"\"\n",
    "out=make_query(implicitjoinsel)\n",
    "make_frame(out, legend=[\"contributors.last_name\", \n",
    "            \"contributors.first_name\", \"contributors.amount\", \"candidates.last_name\"]).head()"
   ]
  },
  {
   "cell_type": "markdown",
   "metadata": {},
   "source": [
    "Let's expand to not just include Obama"
   ]
  },
  {
   "cell_type": "code",
   "execution_count": null,
   "metadata": {
    "collapsed": false
   },
   "outputs": [],
   "source": [
    "implicitjoinsel=\"\"\"\n",
    "SELECT \n",
    "    contributors.last_name, contributors.first_name, contributors.amount, candidates.last_name \n",
    "FROM \n",
    "    contributors, candidates \n",
    "WHERE contributors.candidate_id = candidates.id;\n",
    "\"\"\"\n",
    "out=make_query(implicitjoinsel)\n",
    "make_frame(out, legend=[\"contributors.last_name\", \n",
    "            \"contributors.first_name\", \"contributors.amount\", \"candidates.last_name\"]).head()"
   ]
  },
  {
   "cell_type": "markdown",
   "metadata": {},
   "source": [
    "###Explicit INNER JOIN"
   ]
  },
  {
   "cell_type": "markdown",
   "metadata": {},
   "source": [
    "![inner join](http://pandas.pydata.org/pandas-docs/stable/_images/merging_merge_on_key_inner.png)\n",
    "\n",
    "(from http://pandas.pydata.org/pandas-docs/stable/merging.html)"
   ]
  },
  {
   "cell_type": "code",
   "execution_count": null,
   "metadata": {
    "collapsed": false
   },
   "outputs": [],
   "source": [
    "cols_wanted=['last_name_x', 'first_name_x', 'candidate_id', 'id', 'last_name_y']\n",
    "dfcwci.merge(dfcand, left_on=\"candidate_id\", right_on=\"id\")[cols_wanted]"
   ]
  },
  {
   "cell_type": "code",
   "execution_count": null,
   "metadata": {
    "collapsed": false
   },
   "outputs": [],
   "source": [
    "explicitjoinsel=\"\"\"\n",
    "SELECT \n",
    "    contributors.last_name, contributors.first_name, candidates.last_name \n",
    "FROM \n",
    "    contributors JOIN candidates \n",
    "ON contributors.candidate_id = candidates.id;\n",
    "\"\"\"\n",
    "out=make_query(explicitjoinsel)\n",
    "make_frame(out, legend=[\"contributors.last_name\", \n",
    "            \"contributors.first_name\",  \"candidates.last_name\"]).head()"
   ]
  },
  {
   "cell_type": "code",
   "execution_count": null,
   "metadata": {
    "collapsed": false
   },
   "outputs": [],
   "source": [
    "explicitjoinsel=\"\"\"\n",
    "SELECT \n",
    "    COUNT(contributors.id), contributors.first_name, candidates.last_name \n",
    "FROM \n",
    "    contributors JOIN candidates \n",
    "ON contributors.candidate_id = candidates.id\n",
    "\n",
    "GROUP BY candidates.last_name;\n",
    "\"\"\"\n",
    "out=make_query(explicitjoinsel)\n",
    "make_frame(out, legend=[\"count(contributors.id)\", \n",
    "            \"contributors.first_name\",  \"candidates.last_name\"])"
   ]
  },
  {
   "cell_type": "code",
   "execution_count": null,
   "metadata": {
    "collapsed": false
   },
   "outputs": [],
   "source": [
    "len(make_query(\"SELECT DISTINCT id, last_name FROM candidates;\"))"
   ]
  },
  {
   "cell_type": "markdown",
   "metadata": {},
   "source": [
    "###Outer JOIN"
   ]
  },
  {
   "cell_type": "markdown",
   "metadata": {},
   "source": [
    "####left outer (contributors on candidates)"
   ]
  },
  {
   "cell_type": "markdown",
   "metadata": {},
   "source": [
    "![left outer](http://pandas.pydata.org/pandas-docs/stable/_images/merging_merge_on_key_left.png)"
   ]
  },
  {
   "cell_type": "code",
   "execution_count": null,
   "metadata": {
    "collapsed": false
   },
   "outputs": [],
   "source": [
    "dfcwci.merge(dfcand, left_on=\"candidate_id\", right_on=\"id\", how=\"left\")[cols_wanted]"
   ]
  },
  {
   "cell_type": "code",
   "execution_count": null,
   "metadata": {
    "collapsed": false
   },
   "outputs": [],
   "source": [
    "explicitjoinsel=\"\"\"\n",
    "SELECT \n",
    "    COUNT(contributors.id), contributors.first_name, candidates.last_name,\n",
    "        contributors.candidate_id, candidates.id\n",
    "FROM \n",
    "    contributors LEFT OUTER JOIN candidates \n",
    "ON contributors.candidate_id = candidates.id\n",
    "\n",
    "GROUP BY candidates.last_name;\n",
    "\"\"\"\n",
    "out=make_query(explicitjoinsel)\n",
    "make_frame(out, legend=[\"count(contributors.id)\", \"contributors.first_name\",  \n",
    "            \"contributors.candidate_id\", \"candidates.id\", \"candidates.last_name\"])"
   ]
  },
  {
   "cell_type": "markdown",
   "metadata": {},
   "source": [
    "####right outer (contributors on candidates) = left outer (candidates on contributors)"
   ]
  },
  {
   "cell_type": "markdown",
   "metadata": {},
   "source": [
    "We do it thus as sqlite has no support for right outer or plain outer. If it did we could write:\n",
    "\n",
    "```sql\n",
    "SELECT \n",
    "    COUNT(contributors.id), contributors.first_name, candidates.last_name \n",
    "FROM \n",
    "    contributors RIGHT OUTER JOIN candidates \n",
    "ON contributors.candidate_id = candidates.id\n",
    "\n",
    "GROUP BY candidates.last_name;\n",
    "```"
   ]
  },
  {
   "cell_type": "markdown",
   "metadata": {},
   "source": [
    "![right outer](http://pandas.pydata.org/pandas-docs/stable/_images/merging_merge_on_key_right.png)"
   ]
  },
  {
   "cell_type": "code",
   "execution_count": null,
   "metadata": {
    "collapsed": false
   },
   "outputs": [],
   "source": [
    "dfcwci.merge(dfcand, left_on=\"candidate_id\", right_on=\"id\", how=\"right\")[cols_wanted]"
   ]
  },
  {
   "cell_type": "code",
   "execution_count": null,
   "metadata": {
    "collapsed": false
   },
   "outputs": [],
   "source": [
    "explicitjoinsel=\"\"\"\n",
    "SELECT \n",
    "    COUNT(contributors.id), contributors.first_name, candidates.last_name, \n",
    "        contributors.candidate_id, candidates.id\n",
    "FROM \n",
    "    candidates LEFT OUTER JOIN contributors \n",
    "ON contributors.candidate_id = candidates.id\n",
    "\n",
    "GROUP BY candidates.last_name;\n",
    "\"\"\"\n",
    "out=make_query(explicitjoinsel)\n",
    "make_frame(out, legend=[\"count(contributors.id)\", \"contributors.first_name\",  \n",
    "                    \"contributors.candidate_id\", \"candidates.id\", \"candidates.last_name\"])"
   ]
  },
  {
   "cell_type": "markdown",
   "metadata": {},
   "source": [
    "####full outer"
   ]
  },
  {
   "cell_type": "markdown",
   "metadata": {},
   "source": [
    "also not supported by sqlite\n",
    "\n",
    "```sql\n",
    "SELECT \n",
    "    COUNT(contributors.id), contributors.first_name, candidates.last_name \n",
    "FROM \n",
    "    contributors FULL OUTER JOIN candidates \n",
    "ON contributors.candidate_id = candidates.id\n",
    "\n",
    "GROUP BY candidates.last_name;\n",
    "```"
   ]
  },
  {
   "cell_type": "markdown",
   "metadata": {},
   "source": [
    "![outer](http://pandas.pydata.org/pandas-docs/stable/_images/merging_merge_on_key_outer.png)"
   ]
  },
  {
   "cell_type": "code",
   "execution_count": null,
   "metadata": {
    "collapsed": false
   },
   "outputs": [],
   "source": [
    "dfcwci.merge(dfcand, left_on=\"candidate_id\", right_on=\"id\", how=\"outer\")[cols_wanted]"
   ]
  },
  {
   "cell_type": "markdown",
   "metadata": {},
   "source": [
    "When to use which?\n",
    "\n",
    "See this:\n",
    "\n",
    "http://blog.codinghorror.com/a-visual-explanation-of-sql-joins/"
   ]
  },
  {
   "cell_type": "markdown",
   "metadata": {},
   "source": [
    "##Pandas /SQL"
   ]
  },
  {
   "cell_type": "code",
   "execution_count": null,
   "metadata": {
    "collapsed": false
   },
   "outputs": [],
   "source": [
    "pd.read_sql(\"SELECT * FROM candidates WHERE party= 'D';\", db)"
   ]
  },
  {
   "cell_type": "code",
   "execution_count": null,
   "metadata": {
    "collapsed": false
   },
   "outputs": [],
   "source": [
    "pd.read_sql(implicitjoinsel, db)"
   ]
  },
  {
   "cell_type": "markdown",
   "metadata": {},
   "source": [
    "This is very useful if the database is big and out of memory. Sqlite3 is the only db2api database supported. For any other database you should use `SQLAlchemy`. See, for eg: https://plot.ly/ipython-notebooks/big-data-analytics-with-pandas-and-sqlite/"
   ]
  },
  {
   "cell_type": "code",
   "execution_count": null,
   "metadata": {
    "collapsed": true
   },
   "outputs": [],
   "source": [
    "db.close()"
   ]
  },
  {
   "cell_type": "markdown",
   "metadata": {},
   "source": [
    "##Useful Links"
   ]
  },
  {
   "cell_type": "markdown",
   "metadata": {},
   "source": [
    "- http://sebastianraschka.com/Articles/sqlite3_database.html and  http://sebastianraschka.com/Articles/2014_sqlite_in_python_tutorial.html#unique_indexes\n",
    "- https://github.com/tthibo/SQL-Tutorial\n",
    "- chrisalbon.com\n",
    "\n",
    "And especially for R users:\n",
    "\n",
    "- https://cran.r-project.org/web/packages/dplyr/vignettes/introduction.html\n",
    "- https://gist.github.com/TomAugspurger/6e052140eaa5fdb6e8c0/"
   ]
  }
 ],
 "metadata": {
  "kernelspec": {
   "display_name": "Python [Root]",
   "language": "python",
   "name": "Python [Root]"
  },
  "language_info": {
   "codemirror_mode": {
    "name": "ipython",
    "version": 3
   },
   "file_extension": ".py",
   "mimetype": "text/x-python",
   "name": "python",
   "nbconvert_exporter": "python",
   "pygments_lexer": "ipython3",
   "version": "3.5.2"
  }
 },
 "nbformat": 4,
 "nbformat_minor": 0
}
